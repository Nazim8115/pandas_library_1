{
 "cells": [
  {
   "cell_type": "markdown",
   "id": "3c66dec9",
   "metadata": {},
   "source": [
    "### Introduction\n",
    "Pandas is a python library.used for working with data sets.It has functions for analyzing, cleaning, exploring, and manipulating data.\n",
    "Pandas is used to analyze data.\n",
    ">The name \"Pandas\" has a reference to both \"Panel Data\", and \"Python Data Analysis\" and was created by Wes McKinney in 2008.<br>\n",
    "#### Why use pandas\n",
    "Pandas allows us to analyze big data and make conclusions based on statistical theories.<br>\n",
    "Pandas can clean messy data sets, and make them readable and relevant.<br>\n",
    "Relevant data is very important in data science.\n",
    "\n"
   ]
  },
  {
   "cell_type": "code",
   "execution_count": 5,
   "id": "6d1a93f2",
   "metadata": {},
   "outputs": [
    {
     "name": "stdout",
     "output_type": "stream",
     "text": [
      "    cars  model\n",
      "0    BMW   2000\n",
      "1  VOLVO   1999\n",
      "2   Audi   2007\n",
      "1.4.2\n"
     ]
    }
   ],
   "source": [
    "# example of dtaa frame \n",
    "\n",
    "import pandas as pd\n",
    "my_dataset={\n",
    "    'cars':[\"BMW\",\"VOLVO\",\"Audi\"],\n",
    "    'model':[2000,1999,2007]\n",
    "}\n",
    "var_1=pd.DataFrame(my_dataset)\n",
    "print(var_1)\n",
    "# checking version of pandas library\n",
    "print(pd.__version__)"
   ]
  },
  {
   "cell_type": "markdown",
   "id": "1b6a1c97",
   "metadata": {},
   "source": [
    "#### Pandas Series\n",
    ">pandas series like a column in a table.\n",
    ">it is one dimensional array holding data any type.<br>\n",
    "##### Label/index\n",
    ">If nothing else is specified, the values are labeled with their index number. First value has index 0, second value has index 1 etc.<br>\n",
    ">An index is nothing it is an indicator or measure of something<br>\n",
    ">lavel/index can used to access a specified Value."
   ]
  },
  {
   "cell_type": "code",
   "execution_count": 20,
   "id": "02a6b842",
   "metadata": {},
   "outputs": [
    {
     "name": "stdout",
     "output_type": "stream",
     "text": [
      "0    100\n",
      "1    200\n",
      "2    300\n",
      "dtype: int64\n",
      "\n",
      "\n",
      "Chennai        ms dhoni\n",
      "Mumbai     Rohit Sharma\n",
      "Lucknow       K L rahul\n",
      "dtype: object\n"
     ]
    }
   ],
   "source": [
    "# create pandas series \n",
    "my_data=[100,200,300]\n",
    "my_series_1=pd.Series(my_data)\n",
    "print(my_series_1)\n",
    "\n",
    "print('\\n')# creating series used with dictionary \n",
    "my_series_2=pd.Series({'Chennai':'ms dhoni','Mumbai':'Rohit Sharma','Lucknow':'K L rahul'})\n",
    "print(my_series_2)"
   ]
  },
  {
   "cell_type": "code",
   "execution_count": 38,
   "id": "f374cd7e",
   "metadata": {},
   "outputs": [
    {
     "name": "stdout",
     "output_type": "stream",
     "text": [
      "k1    100\n",
      "k2    200\n",
      "k3    300\n",
      "dtype: int64\n",
      "k3    300.0\n",
      "k2    200.0\n",
      "k1    100.0\n",
      "k5      NaN\n",
      "dtype: float64\n",
      "10     1000\n",
      "20    30000\n",
      "30    40000\n",
      "dtype: int64\n",
      "0    samiksha\n",
      "1       nazim\n",
      "2     chandan\n",
      "dtype: object\n"
     ]
    }
   ],
   "source": [
    "# create your own labels\n",
    "# with the index argument you can name your own labels.\n",
    "s1=pd.Series({'k1':100,'k2':200,'k3':300})\n",
    "print(s1)\n",
    "s1=pd.Series({'k1':100,'k2':200,'k3':300}, index=['k3','k2','k1','k5'])\n",
    "print(s1)\n",
    "a=[1000,30000,40000]\n",
    "s2=pd.Series(a,index=[10,20,30])\n",
    "print(s2)\n",
    "s3=pd.Series([\"samiksha\",\"nazim\",\"chandan\"])\n",
    "print(s3)"
   ]
  },
  {
   "cell_type": "code",
   "execution_count": 45,
   "id": "21f4c646",
   "metadata": {},
   "outputs": [
    {
     "name": "stdout",
     "output_type": "stream",
     "text": [
      "1000\n",
      "200.0\n",
      "0    samiksha\n",
      "1       nazim\n",
      "dtype: object\n"
     ]
    }
   ],
   "source": [
    "# you can access an item by referring to the label.\n",
    "print(s2[10])\n",
    "print(s1['k2'])\n",
    "# slicing\n",
    "print(s3[:-1])"
   ]
  },
  {
   "cell_type": "code",
   "execution_count": 7,
   "id": "da3df1b2",
   "metadata": {},
   "outputs": [
    {
     "name": "stdout",
     "output_type": "stream",
     "text": [
      "0    100\n",
      "1    200\n",
      "2    300\n",
      "3    400\n",
      "4    500\n",
      "dtype: int64\n",
      "Series([], dtype: int64)\n",
      "2    300\n",
      "3    400\n",
      "4    500\n",
      "5    600\n",
      "6    700\n",
      "dtype: int64\n"
     ]
    }
   ],
   "source": [
    "l=[100,200,300,400,500,600,700,800]\n",
    "s4=pd.Series(l)\n",
    "print(s4[:5])\n",
    "print(s4[-1:-1:-1])\n",
    "print(s4[2:-1])"
   ]
  },
  {
   "cell_type": "code",
   "execution_count": 19,
   "id": "d275b389",
   "metadata": {},
   "outputs": [
    {
     "name": "stdout",
     "output_type": "stream",
     "text": [
      "0    105\n",
      "1    205\n",
      "2    305\n",
      "3    405\n",
      "4    505\n",
      "5    605\n",
      "6    705\n",
      "7    805\n",
      "dtype: int64\n",
      "<class 'pandas.core.series.Series'>\n",
      "0     11\n",
      "1     22\n",
      "2     33\n",
      "3     44\n",
      "4     55\n",
      "5     66\n",
      "6     77\n",
      "7     88\n",
      "8     99\n",
      "9    110\n",
      "dtype: int64\n",
      "0    -9\n",
      "1   -18\n",
      "2   -27\n",
      "3   -36\n",
      "4   -45\n",
      "5   -54\n",
      "6   -63\n",
      "7   -72\n",
      "8   -81\n",
      "9   -90\n",
      "dtype: int64\n",
      "0     2\n",
      "1     6\n",
      "2    15\n",
      "3    16\n",
      "4    30\n",
      "5    42\n",
      "6    24\n",
      "dtype: int64\n",
      "0    0.500000\n",
      "1    0.666667\n",
      "2    0.600000\n",
      "3    1.000000\n",
      "4    0.833333\n",
      "5    0.857143\n",
      "6    0.375000\n",
      "dtype: float64\n"
     ]
    },
    {
     "data": {
      "text/plain": [
       "5    605\n",
       "6    705\n",
       "7    805\n",
       "dtype: int64"
      ]
     },
     "execution_count": 19,
     "metadata": {},
     "output_type": "execute_result"
    }
   ],
   "source": [
    "##### Basic math operations on series \n",
    "# adding a scaler value to series element \n",
    "data=[100,200,300,400,500,600,700]\n",
    "se=pd.Series(data)\n",
    "se=s4+5\n",
    "print(s5)\n",
    "print(type(s5))\n",
    "\n",
    "# adding 2 series elements \n",
    "se1=pd.Series([1,2,3,4,5,6,7,8,9,10],dtype=None)\n",
    "se2=pd.Series([10,20,30,40,50,60,70,80,90,100])\n",
    "print(se1+se2)\n",
    "# substraction of 2 series\n",
    "print(se1-se2)\n",
    "\n",
    "# Multiplication of two series\n",
    "data_1=[1,2,3,4,5,6,3]\n",
    "data_2=[2,3,5,4,6,7,8]\n",
    "se3=pd.Series(data_1)\n",
    "se4=pd.Series(data_2)\n",
    "print(se3*se4)\n",
    "# Division of two series\n",
    "print(se3/se4)\n",
    "s=se.tail(3)\n",
    "s"
   ]
  },
  {
   "cell_type": "code",
   "execution_count": null,
   "id": "3a25f78d",
   "metadata": {},
   "outputs": [],
   "source": []
  }
 ],
 "metadata": {
  "kernelspec": {
   "display_name": "Python 3 (ipykernel)",
   "language": "python",
   "name": "python3"
  },
  "language_info": {
   "codemirror_mode": {
    "name": "ipython",
    "version": 3
   },
   "file_extension": ".py",
   "mimetype": "text/x-python",
   "name": "python",
   "nbconvert_exporter": "python",
   "pygments_lexer": "ipython3",
   "version": "3.10.2"
  }
 },
 "nbformat": 4,
 "nbformat_minor": 5
}
