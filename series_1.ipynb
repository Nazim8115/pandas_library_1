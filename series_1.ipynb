{
 "cells": [
  {
   "cell_type": "code",
   "execution_count": 1,
   "id": "8b01be20",
   "metadata": {},
   "outputs": [],
   "source": [
    "import pandas as pd"
   ]
  },
  {
   "cell_type": "code",
   "execution_count": 25,
   "id": "32b20d50",
   "metadata": {},
   "outputs": [
    {
     "data": {
      "text/plain": [
       "0                Texas\n",
       "1            Marquette\n",
       "2    Boston University\n",
       "3        Georgia State\n",
       "4                  NaN\n",
       "5                  NaN\n",
       "6                  LSU\n",
       "7              Gonzaga\n",
       "8           Louisville\n",
       "Name: College, dtype: object"
      ]
     },
     "execution_count": 25,
     "metadata": {},
     "output_type": "execute_result"
    }
   ],
   "source": [
    "data=pd.read_csv(\"nba.csv\")\n",
    "data_top=data.head()\n",
    "data_top\n",
    "series=data[\"College\"]\n",
    "n=9\n",
    "top=series.head(n=n)\n",
    "top"
   ]
  }
 ],
 "metadata": {
  "kernelspec": {
   "display_name": "Python 3 (ipykernel)",
   "language": "python",
   "name": "python3"
  },
  "language_info": {
   "codemirror_mode": {
    "name": "ipython",
    "version": 3
   },
   "file_extension": ".py",
   "mimetype": "text/x-python",
   "name": "python",
   "nbconvert_exporter": "python",
   "pygments_lexer": "ipython3",
   "version": "3.10.2"
  }
 },
 "nbformat": 4,
 "nbformat_minor": 5
}
